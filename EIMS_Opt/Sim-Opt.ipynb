{
 "cells": [
  {
   "cell_type": "markdown",
   "metadata": {
    "toc": true
   },
   "source": [
    "<h1>Table of Contents<span class=\"tocSkip\"></span></h1>\n",
    "<div class=\"toc\"><ul class=\"toc-item\"><li><span><a href=\"#Simulationsgestützte-Optimierung-mit-SciPy\" data-toc-modified-id=\"Simulationsgestützte-Optimierung-mit-SciPy-1\"><span class=\"toc-item-num\">1&nbsp;&nbsp;</span>Simulationsgestützte Optimierung mit SciPy</a></span><ul class=\"toc-item\"><li><span><a href=\"#Aufgabe-0\" data-toc-modified-id=\"Aufgabe-0-1.1\"><span class=\"toc-item-num\">1.1&nbsp;&nbsp;</span>Aufgabe 0</a></span></li><li><span><a href=\"#Aufgabe-1\" data-toc-modified-id=\"Aufgabe-1-1.2\"><span class=\"toc-item-num\">1.2&nbsp;&nbsp;</span>Aufgabe 1</a></span></li><li><span><a href=\"#Aufgabe-2\" data-toc-modified-id=\"Aufgabe-2-1.3\"><span class=\"toc-item-num\">1.3&nbsp;&nbsp;</span>Aufgabe 2</a></span></li><li><span><a href=\"#Aufgabe-3\" data-toc-modified-id=\"Aufgabe-3-1.4\"><span class=\"toc-item-num\">1.4&nbsp;&nbsp;</span>Aufgabe 3</a></span></li><li><span><a href=\"#Aufgabe-4\" data-toc-modified-id=\"Aufgabe-4-1.5\"><span class=\"toc-item-num\">1.5&nbsp;&nbsp;</span>Aufgabe 4</a></span></li><li><span><a href=\"#Aufgabe-5\" data-toc-modified-id=\"Aufgabe-5-1.6\"><span class=\"toc-item-num\">1.6&nbsp;&nbsp;</span>Aufgabe 5</a></span></li><li><span><a href=\"#Aufgabe-6\" data-toc-modified-id=\"Aufgabe-6-1.7\"><span class=\"toc-item-num\">1.7&nbsp;&nbsp;</span>Aufgabe 6</a></span></li><li><span><a href=\"#Aufgabe-7\" data-toc-modified-id=\"Aufgabe-7-1.8\"><span class=\"toc-item-num\">1.8&nbsp;&nbsp;</span>Aufgabe 7</a></span></li><li><span><a href=\"#Aufgabe-8\" data-toc-modified-id=\"Aufgabe-8-1.9\"><span class=\"toc-item-num\">1.9&nbsp;&nbsp;</span>Aufgabe 8</a></span></li><li><span><a href=\"#Aufgabe-9\" data-toc-modified-id=\"Aufgabe-9-1.10\"><span class=\"toc-item-num\">1.10&nbsp;&nbsp;</span>Aufgabe 9</a></span></li><li><span><a href=\"#Bonusaufgabe\" data-toc-modified-id=\"Bonusaufgabe-1.11\"><span class=\"toc-item-num\">1.11&nbsp;&nbsp;</span>Bonusaufgabe</a></span></li></ul></li></ul></div>"
   ]
  },
  {
   "cell_type": "markdown",
   "metadata": {},
   "source": [
    "# Simulationsgestützte Optimierung mit SciPy"
   ]
  },
  {
   "cell_type": "markdown",
   "metadata": {},
   "source": [
    "In den nachfolgenden Aufgaben werden Sie mithilfe von scipy.optimize und Ihrem entwickelten Simulationsmodell das Energiesystem eines Gebäudes optimieren. Sie können die Aufgaben entweder direkt hier im Jupyter-Notebook ausarbeiten oder in einem eigenen Python-Skript (z.B. mit Spyder)."
   ]
  },
  {
   "cell_type": "markdown",
   "metadata": {},
   "source": [
    "## Aufgabe 0"
   ]
  },
  {
   "cell_type": "markdown",
   "metadata": {},
   "source": [
    "Instanzieren Sie Ihr entwickeltes Simulationsmodell. Verwenden sie dafür folgende Parameterwerte:\n",
    "* PV kWp = 25 kW\n",
    "* Battery_kWh = 30 kWh\n",
    "\n",
    "Testen Sie die Funktionsfähigkeit der Simulation, indem Sie model.simulate() aufrufen. Lassen Sie sich auch die berechneten Gesamtkosten (*model.total_cost*) ausgeben. (0 %)"
   ]
  },
  {
   "cell_type": "code",
   "execution_count": null,
   "metadata": {},
   "outputs": [],
   "source": []
  },
  {
   "cell_type": "markdown",
   "metadata": {},
   "source": [
    "## Aufgabe 1"
   ]
  },
  {
   "cell_type": "markdown",
   "metadata": {},
   "source": [
    "Definieren Sie eine Funktion *objective_function_PV(x)*, welche als Argument *x* die Leistung (kWp) der PV-Anlage erhält, den Wert entsprechend im Simulationsmodell setzt, die Simulation ausführt und die berechneten Kosten (*model.total_cost*) als Ergebnis zurückliefert. (5 %)"
   ]
  },
  {
   "cell_type": "code",
   "execution_count": null,
   "metadata": {},
   "outputs": [],
   "source": []
  },
  {
   "cell_type": "markdown",
   "metadata": {},
   "source": [
    "## Aufgabe 2"
   ]
  },
  {
   "cell_type": "markdown",
   "metadata": {},
   "source": [
    "Programmieren Sie eine for-Schleife, in der die Funktion *objective_function_PV()* für verschiedene kWp-Werte (im Bereich 5-50 kW in 5kW-Schritten) aufgerufen und die Rückgabewerte ausgegeben (Funktion *print*) werden.\n",
    "(Die Batterie-Kapaziät bleibt dabei unverändert mit 30 kWh.) Bei welchem dieser kWp-Werte sind die berechneten Kosten am geringsten? (10 %)"
   ]
  },
  {
   "cell_type": "code",
   "execution_count": null,
   "metadata": {},
   "outputs": [],
   "source": []
  },
  {
   "cell_type": "markdown",
   "metadata": {},
   "source": [
    "## Aufgabe 3"
   ]
  },
  {
   "cell_type": "markdown",
   "metadata": {},
   "source": [
    "Verwenden Sie die Funktion *scipy.optimize.minimize()* aus dem Python-Package *scipy* um den optimalen kWp-Wert für die PV-Anlage zu finden, der die Gesamtkosten minimiert. Verwenden Sie *objective_function_PV()* als Zielfunktion und legen Sie geeignete Grenzwerte (*bounds*) sowie einen sinnvollen Startwert *x0* fest.\n",
    "\n",
    "Testen Sie auch andere Optimierungsverfahren, z.B. 'Nelder-Mead' oder 'CG', indem Sie die Funktion *minimize* mit der ensprechenden Option *method='Nelder-Mead'* bzw. method='CG' aufrufen. Lassen Sie sich den Rückgabewert von *minimize()* in der Konsole ausgeben. Wie lautet der berechnete optimale kWp-Wert? (15 %)"
   ]
  },
  {
   "cell_type": "code",
   "execution_count": null,
   "metadata": {},
   "outputs": [],
   "source": []
  },
  {
   "cell_type": "markdown",
   "metadata": {},
   "source": [
    "## Aufgabe 4"
   ]
  },
  {
   "cell_type": "markdown",
   "metadata": {},
   "source": [
    "Definieren Sie eine zweite Funktion *objective_function_2D(x)*, welche als Inputwert x einen Vektor aus den beiden Parametern\n",
    "* Dimenstionierung (kWp) der PV-Anlage\n",
    "* Batteriekapazität\n",
    "\n",
    "erhält, die Parameter entsprechend im Simulationsmodell setzt, die Simulation ausführt und die berechneten Gesamtkosten als Ergebnis zurückliefert. (5 %)"
   ]
  },
  {
   "cell_type": "code",
   "execution_count": null,
   "metadata": {},
   "outputs": [],
   "source": []
  },
  {
   "cell_type": "markdown",
   "metadata": {},
   "source": [
    "## Aufgabe 5"
   ]
  },
  {
   "cell_type": "markdown",
   "metadata": {},
   "source": [
    "Verwenden Sie wieder die Funktion *scipy.optimize.minimize()* aus dem Package scipy um sowohl den kWp-Wert für die PV-Anlage als auch die Batteriekapzazität gleichzeitig zu optimieren. Verwenden Sie *objective_function_2D()* als Zielfunktion und legen Sie geeignete Grenzwerte (*bounds*) sowie sinnvolle Startwerte *x0* fest.\n",
    "Testen Sie auch andere Optimierungsverfahren und vergleichen Sie die Ergebnisse. (15 %)"
   ]
  },
  {
   "cell_type": "code",
   "execution_count": null,
   "metadata": {},
   "outputs": [],
   "source": []
  },
  {
   "cell_type": "markdown",
   "metadata": {},
   "source": [
    "## Aufgabe 6"
   ]
  },
  {
   "cell_type": "markdown",
   "metadata": {},
   "source": [
    "Verwenden Sie anstatt *minimize()* die Funktion *scipy.optimize.differential_evolution()* um das Optimum mittels Differential-Evolution-Verfahren zu berechnen. Vergleichen Sie die Ergebnisse mit jenen aus Aufgabe 5.\n",
    "> Hinweis: Wie genau die Funktion differential_evolution aufgerufen werden kann (und welche Input-Argumente sie erlaubt bzw. benötigt), können Sie in der Dokumentation nachlesen: https://docs.scipy.org/doc/scipy/reference/generated/scipy.optimize.differential_evolution.html\n",
    "\n",
    "Probieren Sie auch verschiedene Verfahrensparameter (sog. Hyperparameter) aus, speziell die Populationsgröße (*popsize*) sowie Mutations- und Rekombinationsraten (*mutation*, *recombination*). (15 %)"
   ]
  },
  {
   "cell_type": "code",
   "execution_count": null,
   "metadata": {},
   "outputs": [],
   "source": []
  },
  {
   "cell_type": "markdown",
   "metadata": {},
   "source": [
    "## Aufgabe 7"
   ]
  },
  {
   "cell_type": "markdown",
   "metadata": {},
   "source": [
    "Vergleichen Sie die Rechenzeit sowie die Anzahl der Funktionsauswertungen \n",
    "* zwischen *minimize()* im 1D-Fall (Aufgabe 3) und im 2D-Fall (Aufgabe 5),\n",
    "* zwischen *minimize()* (Aufgabe 5) und *differential_evolution()* (Aufgabe 6), \n",
    "\n",
    "indem die Werte jeweils in einer Tabelle gegenüberstellen. Welches der Verfahren ist im jeweiligen Fall effizienter? (10 %)\n",
    "> Hinweis: Die Anzahl der Funktionsauswertungen (*nfev*) wird Ihnen von den beiden Funktionen jeweils mit zurück geliefert. Um die Rechenzeit zu bestimmen, vergleichen Sie die Zeiten vor und nach dem Funktionsaufruf. Verwenden Sie dazu das Python-Package *time*:  \n",
    ">> *import time  \n",
    ">> t = time.time()  \n",
    ">> (...Funktionsaufruf...)  \n",
    ">> elapsed_time = time.time() - t*  \n",
    "\n"
   ]
  },
  {
   "cell_type": "code",
   "execution_count": null,
   "metadata": {},
   "outputs": [],
   "source": []
  },
  {
   "cell_type": "markdown",
   "metadata": {},
   "source": [
    "## Aufgabe 8"
   ]
  },
  {
   "cell_type": "markdown",
   "metadata": {},
   "source": [
    "Variieren Sie andere Parameterwerte aus der Simulation, speziell\n",
    "* Energiepreise,\n",
    "* heating_months/cooling_months,\n",
    "* ein weiterer selbst gewählter Parameter (z.B. Außentemperatur),\n",
    "\n",
    "in sinnvollen Bereichen per Hand und führen Sie die Optimierungsläufe von Aufgabe 5 nochmals durch. Wie stark ändern sich die optimalen PV- und Batteriewerte?  \n",
    "(15 %)"
   ]
  },
  {
   "cell_type": "code",
   "execution_count": null,
   "metadata": {},
   "outputs": [],
   "source": []
  },
  {
   "cell_type": "markdown",
   "metadata": {},
   "source": [
    "## Aufgabe 9"
   ]
  },
  {
   "cell_type": "markdown",
   "metadata": {},
   "source": [
    "Nehmen Sie an es gibt die (behördliche) Vorgabe, dass für jedes installierte kWp der PV-Anlage mindestens 1/3 kWh an Batteriekapazität installiert werden muss. Passen Sie den obigen Code derart an, dass diese Nebenbedingung als _soft constraint_ in der 2D-Optimierung berücksichtigt wird. (10 %)"
   ]
  },
  {
   "cell_type": "code",
   "execution_count": null,
   "metadata": {},
   "outputs": [],
   "source": []
  },
  {
   "cell_type": "markdown",
   "metadata": {},
   "source": [
    "## Bonusaufgabe"
   ]
  },
  {
   "cell_type": "markdown",
   "metadata": {},
   "source": [
    "Stellen Sie als 3D-Plot die Oberfläche der Zielfunktion (*objective_funktion_2D()*) visuell dar. Berechnen Sie dafür die Zielfunktion punktweise auf einem 2D-Gitter für verschiedene kWp- und Batterie-Werte. (5 %)\n",
    "> Hinweis: Achten Sie darauf nicht allzu viele Punkte zu berechnen, um die Rechenzeit im Rahmen zu halten."
   ]
  },
  {
   "cell_type": "code",
   "execution_count": null,
   "metadata": {},
   "outputs": [],
   "source": []
  }
 ],
 "metadata": {
  "kernelspec": {
   "display_name": "Python 3 (ipykernel)",
   "language": "python",
   "name": "python3"
  },
  "language_info": {
   "codemirror_mode": {
    "name": "ipython",
    "version": 3
   },
   "file_extension": ".py",
   "mimetype": "text/x-python",
   "name": "python",
   "nbconvert_exporter": "python",
   "pygments_lexer": "ipython3",
   "version": "3.8.11"
  },
  "toc": {
   "base_numbering": 1,
   "nav_menu": {},
   "number_sections": true,
   "sideBar": true,
   "skip_h1_title": false,
   "title_cell": "Table of Contents",
   "title_sidebar": "Contents",
   "toc_cell": true,
   "toc_position": {
    "height": "calc(100% - 180px)",
    "left": "10px",
    "top": "150px",
    "width": "384px"
   },
   "toc_section_display": true,
   "toc_window_display": true
  }
 },
 "nbformat": 4,
 "nbformat_minor": 4
}
